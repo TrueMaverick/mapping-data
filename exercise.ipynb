{
  "metadata": {
    "kernelspec": {
      "name": "python",
      "display_name": "Python (Pyodide)",
      "language": "python"
    },
    "language_info": {
      "codemirror_mode": {
        "name": "python",
        "version": 3
      },
      "file_extension": ".py",
      "mimetype": "text/x-python",
      "name": "python",
      "nbconvert_exporter": "python",
      "pygments_lexer": "ipython3",
      "version": "3.8"
    }
  },
  "nbformat_minor": 4,
  "nbformat": 4,
  "cells": [
    {
      "cell_type": "markdown",
      "source": "# Practice your skills loading data from a CSV file\nIn this exercise, you will load a CSV file and you'll perform some operations on it to extract data. If you know how to do this with the Pandas library, you can use that. If not, you can use the csv library with the ready-to-use example this notebook provides.",
      "metadata": {}
    },
    {
      "cell_type": "markdown",
      "source": "## Using Pandas\nAlternatively, you can use the Pandas library to load the CSV file and then extract the data. You'll need to install the Pandas library first. You can do this with the following command:\n\n```bash\npip install pandas\n```\n\nThen, you can use the following code to load the CSV file and extract the data:\n\n```python\nimport pandas as pd\n\ndf = pd.read_csv('sample_data/wine-ratings-small.csv')\ndf.head()\n```",
      "metadata": {}
    },
    {
      "cell_type": "code",
      "source": "import pandas as pd\ndf = pd.read_csv(\"wine-ratings-small.csv\", index_col=0) # read the csv file and set the index column to 0\ndf.head() # show the first 5 rows of the dataframe\n",
      "metadata": {
        "trusted": true
      },
      "execution_count": 2,
      "outputs": [
        {
          "execution_count": 2,
          "output_type": "execute_result",
          "data": {
            "text/plain": "                                       name  grape            region  \\\n0  Laurenz V Charming Gruner Veltliner 2013    NaN  Kamptal, Austria   \n1  Laurenz V Charming Gruner Veltliner 2014    NaN  Kamptal, Austria   \n2   Laurenz V Singing Gruner Veltliner 2007    NaN           Austria   \n3   Laurenz V Singing Gruner Veltliner 2010    NaN           Austria   \n4   Laurenz V Singing Gruner Veltliner 2011    NaN           Austria   \n\n      variety  rating                                              notes  \n0  White Wine    90.0  Aromas of ripe apples and a typical Veltliner ...  \n1  White Wine    90.0  Aromas of ripe apples and a typical Veltliner ...  \n2  White Wine    90.0  A very attractive fruit bouquet yields apple, ...  \n3  White Wine    88.0  A very attractive fruit bouquet yields apple, ...  \n4  White Wine    88.0  A very attractive fruit bouquet yields apple, ...  ",
            "text/html": "<div>\n<style scoped>\n    .dataframe tbody tr th:only-of-type {\n        vertical-align: middle;\n    }\n\n    .dataframe tbody tr th {\n        vertical-align: top;\n    }\n\n    .dataframe thead th {\n        text-align: right;\n    }\n</style>\n<table border=\"1\" class=\"dataframe\">\n  <thead>\n    <tr style=\"text-align: right;\">\n      <th></th>\n      <th>name</th>\n      <th>grape</th>\n      <th>region</th>\n      <th>variety</th>\n      <th>rating</th>\n      <th>notes</th>\n    </tr>\n  </thead>\n  <tbody>\n    <tr>\n      <th>0</th>\n      <td>Laurenz V Charming Gruner Veltliner 2013</td>\n      <td>NaN</td>\n      <td>Kamptal, Austria</td>\n      <td>White Wine</td>\n      <td>90.0</td>\n      <td>Aromas of ripe apples and a typical Veltliner ...</td>\n    </tr>\n    <tr>\n      <th>1</th>\n      <td>Laurenz V Charming Gruner Veltliner 2014</td>\n      <td>NaN</td>\n      <td>Kamptal, Austria</td>\n      <td>White Wine</td>\n      <td>90.0</td>\n      <td>Aromas of ripe apples and a typical Veltliner ...</td>\n    </tr>\n    <tr>\n      <th>2</th>\n      <td>Laurenz V Singing Gruner Veltliner 2007</td>\n      <td>NaN</td>\n      <td>Austria</td>\n      <td>White Wine</td>\n      <td>90.0</td>\n      <td>A very attractive fruit bouquet yields apple, ...</td>\n    </tr>\n    <tr>\n      <th>3</th>\n      <td>Laurenz V Singing Gruner Veltliner 2010</td>\n      <td>NaN</td>\n      <td>Austria</td>\n      <td>White Wine</td>\n      <td>88.0</td>\n      <td>A very attractive fruit bouquet yields apple, ...</td>\n    </tr>\n    <tr>\n      <th>4</th>\n      <td>Laurenz V Singing Gruner Veltliner 2011</td>\n      <td>NaN</td>\n      <td>Austria</td>\n      <td>White Wine</td>\n      <td>88.0</td>\n      <td>A very attractive fruit bouquet yields apple, ...</td>\n    </tr>\n  </tbody>\n</table>\n</div>"
          },
          "metadata": {}
        }
      ]
    },
    {
      "cell_type": "markdown",
      "source": "## Manipulate data with Pandas or as a dictionary\nAt this point, you can use Pandas if you know how to use it. Otherwise, you can use the data as a dictionary. You can use the following code to extract the data:\n\n```python\n``",
      "metadata": {
        "tags": []
      }
    },
    {
      "cell_type": "code",
      "source": "#To select all rows that describe a \"White Wine\" variety\ndf[df.variety == 'White Wine']",
      "metadata": {
        "trusted": true
      },
      "execution_count": 40,
      "outputs": [
        {
          "execution_count": 40,
          "output_type": "execute_result",
          "data": {
            "text/plain": "                                            name  grape  \\\n0       Laurenz V Charming Gruner Veltliner 2013    NaN   \n1       Laurenz V Charming Gruner Veltliner 2014    NaN   \n2        Laurenz V Singing Gruner Veltliner 2007    NaN   \n3        Laurenz V Singing Gruner Veltliner 2010    NaN   \n4        Laurenz V Singing Gruner Veltliner 2011    NaN   \n..                                           ...    ...   \n770           Lewis Cellars Sauvignon Blanc 2018    NaN   \n771         Lewis Cellars Sonoma Chardonnay 2014    NaN   \n772         Lewis Cellars Sonoma Chardonnay 2015    NaN   \n773         Lewis Cellars Sonoma Chardonnay 2017    NaN   \n774  Lewis Cellars Sonoma Valley Chardonnay 2008    NaN   \n\n                                       region     variety  rating  \\\n0                            Kamptal, Austria  White Wine    90.0   \n1                            Kamptal, Austria  White Wine    90.0   \n2                                     Austria  White Wine    90.0   \n3                                     Austria  White Wine    88.0   \n4                                     Austria  White Wine    88.0   \n..                                        ...         ...     ...   \n770                   Napa Valley, California  White Wine    92.0   \n771  Russian River, Sonoma County, California  White Wine    93.0   \n772  Russian River, Sonoma County, California  White Wine    92.0   \n773  Russian River, Sonoma County, California  White Wine    92.0   \n774                 Sonoma County, California  White Wine    91.0   \n\n                                                 notes  \n0    Aromas of ripe apples and a typical Veltliner ...  \n1    Aromas of ripe apples and a typical Veltliner ...  \n2    A very attractive fruit bouquet yields apple, ...  \n3    A very attractive fruit bouquet yields apple, ...  \n4    A very attractive fruit bouquet yields apple, ...  \n..                                                 ...  \n770  Like a sailplane this 2018 Sauvignon Blanc soa...  \n771  Sourced from 40-year old vines the wine is unu...  \n772  Blazing tropical fruit, exotic spices and sexy...  \n773  Chardonnay is whole cluster pressed, barrel fe...  \n774  Our Sonoma Chardonnay comes from some of the o...  \n\n[201 rows x 6 columns]",
            "text/html": "<div>\n<style scoped>\n    .dataframe tbody tr th:only-of-type {\n        vertical-align: middle;\n    }\n\n    .dataframe tbody tr th {\n        vertical-align: top;\n    }\n\n    .dataframe thead th {\n        text-align: right;\n    }\n</style>\n<table border=\"1\" class=\"dataframe\">\n  <thead>\n    <tr style=\"text-align: right;\">\n      <th></th>\n      <th>name</th>\n      <th>grape</th>\n      <th>region</th>\n      <th>variety</th>\n      <th>rating</th>\n      <th>notes</th>\n    </tr>\n  </thead>\n  <tbody>\n    <tr>\n      <th>0</th>\n      <td>Laurenz V Charming Gruner Veltliner 2013</td>\n      <td>NaN</td>\n      <td>Kamptal, Austria</td>\n      <td>White Wine</td>\n      <td>90.0</td>\n      <td>Aromas of ripe apples and a typical Veltliner ...</td>\n    </tr>\n    <tr>\n      <th>1</th>\n      <td>Laurenz V Charming Gruner Veltliner 2014</td>\n      <td>NaN</td>\n      <td>Kamptal, Austria</td>\n      <td>White Wine</td>\n      <td>90.0</td>\n      <td>Aromas of ripe apples and a typical Veltliner ...</td>\n    </tr>\n    <tr>\n      <th>2</th>\n      <td>Laurenz V Singing Gruner Veltliner 2007</td>\n      <td>NaN</td>\n      <td>Austria</td>\n      <td>White Wine</td>\n      <td>90.0</td>\n      <td>A very attractive fruit bouquet yields apple, ...</td>\n    </tr>\n    <tr>\n      <th>3</th>\n      <td>Laurenz V Singing Gruner Veltliner 2010</td>\n      <td>NaN</td>\n      <td>Austria</td>\n      <td>White Wine</td>\n      <td>88.0</td>\n      <td>A very attractive fruit bouquet yields apple, ...</td>\n    </tr>\n    <tr>\n      <th>4</th>\n      <td>Laurenz V Singing Gruner Veltliner 2011</td>\n      <td>NaN</td>\n      <td>Austria</td>\n      <td>White Wine</td>\n      <td>88.0</td>\n      <td>A very attractive fruit bouquet yields apple, ...</td>\n    </tr>\n    <tr>\n      <th>...</th>\n      <td>...</td>\n      <td>...</td>\n      <td>...</td>\n      <td>...</td>\n      <td>...</td>\n      <td>...</td>\n    </tr>\n    <tr>\n      <th>770</th>\n      <td>Lewis Cellars Sauvignon Blanc 2018</td>\n      <td>NaN</td>\n      <td>Napa Valley, California</td>\n      <td>White Wine</td>\n      <td>92.0</td>\n      <td>Like a sailplane this 2018 Sauvignon Blanc soa...</td>\n    </tr>\n    <tr>\n      <th>771</th>\n      <td>Lewis Cellars Sonoma Chardonnay 2014</td>\n      <td>NaN</td>\n      <td>Russian River, Sonoma County, California</td>\n      <td>White Wine</td>\n      <td>93.0</td>\n      <td>Sourced from 40-year old vines the wine is unu...</td>\n    </tr>\n    <tr>\n      <th>772</th>\n      <td>Lewis Cellars Sonoma Chardonnay 2015</td>\n      <td>NaN</td>\n      <td>Russian River, Sonoma County, California</td>\n      <td>White Wine</td>\n      <td>92.0</td>\n      <td>Blazing tropical fruit, exotic spices and sexy...</td>\n    </tr>\n    <tr>\n      <th>773</th>\n      <td>Lewis Cellars Sonoma Chardonnay 2017</td>\n      <td>NaN</td>\n      <td>Russian River, Sonoma County, California</td>\n      <td>White Wine</td>\n      <td>92.0</td>\n      <td>Chardonnay is whole cluster pressed, barrel fe...</td>\n    </tr>\n    <tr>\n      <th>774</th>\n      <td>Lewis Cellars Sonoma Valley Chardonnay 2008</td>\n      <td>NaN</td>\n      <td>Sonoma County, California</td>\n      <td>White Wine</td>\n      <td>91.0</td>\n      <td>Our Sonoma Chardonnay comes from some of the o...</td>\n    </tr>\n  </tbody>\n</table>\n<p>201 rows × 6 columns</p>\n</div>"
          },
          "metadata": {}
        }
      ]
    },
    {
      "cell_type": "code",
      "source": "#To select all rows that have rating range between 90 - 92\ndf[df.rating.between(90,92)]",
      "metadata": {
        "trusted": true
      },
      "execution_count": 41,
      "outputs": [
        {
          "execution_count": 41,
          "output_type": "execute_result",
          "data": {
            "text/plain": "                                             name  grape  \\\n0        Laurenz V Charming Gruner Veltliner 2013    NaN   \n1        Laurenz V Charming Gruner Veltliner 2014    NaN   \n2         Laurenz V Singing Gruner Veltliner 2007    NaN   \n6                     Lava Cap American River Red    NaN   \n7                           Lava Cap Barbera 2010    NaN   \n..                                            ...    ...   \n773          Lewis Cellars Sonoma Chardonnay 2017    NaN   \n774   Lewis Cellars Sonoma Valley Chardonnay 2008    NaN   \n775        Lewis Cellars Syrah Ethan's Blend 2005    NaN   \n778                       Lexington Apex Red 2011    NaN   \n779  Lexington Gist Ranch Cabernet Sauvignon 2011    NaN   \n\n                                       region     variety  rating  \\\n0                            Kamptal, Austria  White Wine    90.0   \n1                            Kamptal, Austria  White Wine    90.0   \n2                                     Austria  White Wine    90.0   \n6     El Dorado, Sierra Foothills, California    Red Wine    90.0   \n7                Sierra Foothills, California    Red Wine    90.0   \n..                                        ...         ...     ...   \n773  Russian River, Sonoma County, California  White Wine    92.0   \n774                 Sonoma County, California  White Wine    91.0   \n775                                California    Red Wine    92.0   \n778          Santa Cruz Mountains, California    Red Wine    91.0   \n779          Santa Cruz Mountains, California    Red Wine    91.0   \n\n                                                 notes  \n0    Aromas of ripe apples and a typical Veltliner ...  \n1    Aromas of ripe apples and a typical Veltliner ...  \n2    A very attractive fruit bouquet yields apple, ...  \n6    This wine was created as a table wine. We want...  \n7    The plump, rich cherry, raspberry and plum fru...  \n..                                                 ...  \n773  Chardonnay is whole cluster pressed, barrel fe...  \n774  Our Sonoma Chardonnay comes from some of the o...  \n775  Now 7 years old, Alec's younger brother Ethan ...  \n778          Blend: 99% Cabernet Sauvignon, 1% Merlot   \n779          Blend: 80% Cabernet Sauvignon, 20% Merlot  \n\n[514 rows x 6 columns]",
            "text/html": "<div>\n<style scoped>\n    .dataframe tbody tr th:only-of-type {\n        vertical-align: middle;\n    }\n\n    .dataframe tbody tr th {\n        vertical-align: top;\n    }\n\n    .dataframe thead th {\n        text-align: right;\n    }\n</style>\n<table border=\"1\" class=\"dataframe\">\n  <thead>\n    <tr style=\"text-align: right;\">\n      <th></th>\n      <th>name</th>\n      <th>grape</th>\n      <th>region</th>\n      <th>variety</th>\n      <th>rating</th>\n      <th>notes</th>\n    </tr>\n  </thead>\n  <tbody>\n    <tr>\n      <th>0</th>\n      <td>Laurenz V Charming Gruner Veltliner 2013</td>\n      <td>NaN</td>\n      <td>Kamptal, Austria</td>\n      <td>White Wine</td>\n      <td>90.0</td>\n      <td>Aromas of ripe apples and a typical Veltliner ...</td>\n    </tr>\n    <tr>\n      <th>1</th>\n      <td>Laurenz V Charming Gruner Veltliner 2014</td>\n      <td>NaN</td>\n      <td>Kamptal, Austria</td>\n      <td>White Wine</td>\n      <td>90.0</td>\n      <td>Aromas of ripe apples and a typical Veltliner ...</td>\n    </tr>\n    <tr>\n      <th>2</th>\n      <td>Laurenz V Singing Gruner Veltliner 2007</td>\n      <td>NaN</td>\n      <td>Austria</td>\n      <td>White Wine</td>\n      <td>90.0</td>\n      <td>A very attractive fruit bouquet yields apple, ...</td>\n    </tr>\n    <tr>\n      <th>6</th>\n      <td>Lava Cap American River Red</td>\n      <td>NaN</td>\n      <td>El Dorado, Sierra Foothills, California</td>\n      <td>Red Wine</td>\n      <td>90.0</td>\n      <td>This wine was created as a table wine. We want...</td>\n    </tr>\n    <tr>\n      <th>7</th>\n      <td>Lava Cap Barbera 2010</td>\n      <td>NaN</td>\n      <td>Sierra Foothills, California</td>\n      <td>Red Wine</td>\n      <td>90.0</td>\n      <td>The plump, rich cherry, raspberry and plum fru...</td>\n    </tr>\n    <tr>\n      <th>...</th>\n      <td>...</td>\n      <td>...</td>\n      <td>...</td>\n      <td>...</td>\n      <td>...</td>\n      <td>...</td>\n    </tr>\n    <tr>\n      <th>773</th>\n      <td>Lewis Cellars Sonoma Chardonnay 2017</td>\n      <td>NaN</td>\n      <td>Russian River, Sonoma County, California</td>\n      <td>White Wine</td>\n      <td>92.0</td>\n      <td>Chardonnay is whole cluster pressed, barrel fe...</td>\n    </tr>\n    <tr>\n      <th>774</th>\n      <td>Lewis Cellars Sonoma Valley Chardonnay 2008</td>\n      <td>NaN</td>\n      <td>Sonoma County, California</td>\n      <td>White Wine</td>\n      <td>91.0</td>\n      <td>Our Sonoma Chardonnay comes from some of the o...</td>\n    </tr>\n    <tr>\n      <th>775</th>\n      <td>Lewis Cellars Syrah Ethan's Blend 2005</td>\n      <td>NaN</td>\n      <td>California</td>\n      <td>Red Wine</td>\n      <td>92.0</td>\n      <td>Now 7 years old, Alec's younger brother Ethan ...</td>\n    </tr>\n    <tr>\n      <th>778</th>\n      <td>Lexington Apex Red 2011</td>\n      <td>NaN</td>\n      <td>Santa Cruz Mountains, California</td>\n      <td>Red Wine</td>\n      <td>91.0</td>\n      <td>Blend: 99% Cabernet Sauvignon, 1% Merlot</td>\n    </tr>\n    <tr>\n      <th>779</th>\n      <td>Lexington Gist Ranch Cabernet Sauvignon 2011</td>\n      <td>NaN</td>\n      <td>Santa Cruz Mountains, California</td>\n      <td>Red Wine</td>\n      <td>91.0</td>\n      <td>Blend: 80% Cabernet Sauvignon, 20% Merlot</td>\n    </tr>\n  </tbody>\n</table>\n<p>514 rows × 6 columns</p>\n</div>"
          },
          "metadata": {}
        }
      ]
    },
    {
      "cell_type": "code",
      "source": "# To retrieve wine produced in California region\ndf[df.region.str.contains('California')]",
      "metadata": {
        "trusted": true
      },
      "execution_count": 43,
      "outputs": [
        {
          "execution_count": 43,
          "output_type": "execute_result",
          "data": {
            "text/plain": "                                             name  grape  \\\n6                     Lava Cap American River Red    NaN   \n7                           Lava Cap Barbera 2010    NaN   \n8              Lava Cap Battonage Chardonnay 2012    NaN   \n9                Lava Cap Cabernet Sauvignon 2013    NaN   \n10               Lava Cap Cabernet Sauvignon 2016    NaN   \n..                                            ...    ...   \n775        Lewis Cellars Syrah Ethan's Blend 2005    NaN   \n776        Lewis Cellars Syrah Ethan's Blend 2014    NaN   \n777        Lewis Cellars Syrah Ethan's Blend 2009    NaN   \n778                       Lexington Apex Red 2011    NaN   \n779  Lexington Gist Ranch Cabernet Sauvignon 2011    NaN   \n\n                                      region     variety  rating  \\\n6    El Dorado, Sierra Foothills, California    Red Wine    90.0   \n7               Sierra Foothills, California    Red Wine    90.0   \n8               Sierra Foothills, California  White Wine    91.0   \n9    El Dorado, Sierra Foothills, California    Red Wine    90.0   \n10   El Dorado, Sierra Foothills, California    Red Wine    93.0   \n..                                       ...         ...     ...   \n775                               California    Red Wine    92.0   \n776                               California    Red Wine    93.0   \n777                               California    Red Wine    94.0   \n778         Santa Cruz Mountains, California    Red Wine    91.0   \n779         Santa Cruz Mountains, California    Red Wine    91.0   \n\n                                                 notes  \n6    This wine was created as a table wine. We want...  \n7    The plump, rich cherry, raspberry and plum fru...  \n8    This perfectly balanced wine begins with invit...  \n9    Lava Cap’s estate grown Cabernet Sauvignon gra...  \n10   Lava Cap’s estate grown grapes have long been ...  \n..                                                 ...  \n775  Now 7 years old, Alec's younger brother Ethan ...  \n776  Born in 2000, everything about Ethan and his n...  \n777  Positioned between brothers, Alec and Mason, E...  \n778          Blend: 99% Cabernet Sauvignon, 1% Merlot   \n779          Blend: 80% Cabernet Sauvignon, 20% Merlot  \n\n[195 rows x 6 columns]",
            "text/html": "<div>\n<style scoped>\n    .dataframe tbody tr th:only-of-type {\n        vertical-align: middle;\n    }\n\n    .dataframe tbody tr th {\n        vertical-align: top;\n    }\n\n    .dataframe thead th {\n        text-align: right;\n    }\n</style>\n<table border=\"1\" class=\"dataframe\">\n  <thead>\n    <tr style=\"text-align: right;\">\n      <th></th>\n      <th>name</th>\n      <th>grape</th>\n      <th>region</th>\n      <th>variety</th>\n      <th>rating</th>\n      <th>notes</th>\n    </tr>\n  </thead>\n  <tbody>\n    <tr>\n      <th>6</th>\n      <td>Lava Cap American River Red</td>\n      <td>NaN</td>\n      <td>El Dorado, Sierra Foothills, California</td>\n      <td>Red Wine</td>\n      <td>90.0</td>\n      <td>This wine was created as a table wine. We want...</td>\n    </tr>\n    <tr>\n      <th>7</th>\n      <td>Lava Cap Barbera 2010</td>\n      <td>NaN</td>\n      <td>Sierra Foothills, California</td>\n      <td>Red Wine</td>\n      <td>90.0</td>\n      <td>The plump, rich cherry, raspberry and plum fru...</td>\n    </tr>\n    <tr>\n      <th>8</th>\n      <td>Lava Cap Battonage Chardonnay 2012</td>\n      <td>NaN</td>\n      <td>Sierra Foothills, California</td>\n      <td>White Wine</td>\n      <td>91.0</td>\n      <td>This perfectly balanced wine begins with invit...</td>\n    </tr>\n    <tr>\n      <th>9</th>\n      <td>Lava Cap Cabernet Sauvignon 2013</td>\n      <td>NaN</td>\n      <td>El Dorado, Sierra Foothills, California</td>\n      <td>Red Wine</td>\n      <td>90.0</td>\n      <td>Lava Cap’s estate grown Cabernet Sauvignon gra...</td>\n    </tr>\n    <tr>\n      <th>10</th>\n      <td>Lava Cap Cabernet Sauvignon 2016</td>\n      <td>NaN</td>\n      <td>El Dorado, Sierra Foothills, California</td>\n      <td>Red Wine</td>\n      <td>93.0</td>\n      <td>Lava Cap’s estate grown grapes have long been ...</td>\n    </tr>\n    <tr>\n      <th>...</th>\n      <td>...</td>\n      <td>...</td>\n      <td>...</td>\n      <td>...</td>\n      <td>...</td>\n      <td>...</td>\n    </tr>\n    <tr>\n      <th>775</th>\n      <td>Lewis Cellars Syrah Ethan's Blend 2005</td>\n      <td>NaN</td>\n      <td>California</td>\n      <td>Red Wine</td>\n      <td>92.0</td>\n      <td>Now 7 years old, Alec's younger brother Ethan ...</td>\n    </tr>\n    <tr>\n      <th>776</th>\n      <td>Lewis Cellars Syrah Ethan's Blend 2014</td>\n      <td>NaN</td>\n      <td>California</td>\n      <td>Red Wine</td>\n      <td>93.0</td>\n      <td>Born in 2000, everything about Ethan and his n...</td>\n    </tr>\n    <tr>\n      <th>777</th>\n      <td>Lewis Cellars Syrah Ethan's Blend 2009</td>\n      <td>NaN</td>\n      <td>California</td>\n      <td>Red Wine</td>\n      <td>94.0</td>\n      <td>Positioned between brothers, Alec and Mason, E...</td>\n    </tr>\n    <tr>\n      <th>778</th>\n      <td>Lexington Apex Red 2011</td>\n      <td>NaN</td>\n      <td>Santa Cruz Mountains, California</td>\n      <td>Red Wine</td>\n      <td>91.0</td>\n      <td>Blend: 99% Cabernet Sauvignon, 1% Merlot</td>\n    </tr>\n    <tr>\n      <th>779</th>\n      <td>Lexington Gist Ranch Cabernet Sauvignon 2011</td>\n      <td>NaN</td>\n      <td>Santa Cruz Mountains, California</td>\n      <td>Red Wine</td>\n      <td>91.0</td>\n      <td>Blend: 80% Cabernet Sauvignon, 20% Merlot</td>\n    </tr>\n  </tbody>\n</table>\n<p>195 rows × 6 columns</p>\n</div>"
          },
          "metadata": {}
        }
      ]
    },
    {
      "cell_type": "code",
      "source": "",
      "metadata": {},
      "execution_count": null,
      "outputs": []
    }
  ]
}